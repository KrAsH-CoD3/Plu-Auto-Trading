{
 "cells": [
  {
   "cell_type": "code",
   "execution_count": 1,
   "metadata": {},
   "outputs": [],
   "source": [
    "from datetime import datetime\n",
    "from selenium import webdriver\n",
    "from dotenv import load_dotenv\n",
    "from typing import Optional, Dict\n",
    "import contextlib, pyautogui, pytz\n",
    "from time import sleep, perf_counter\n",
    "from os import environ as env_variable\n",
    "from selenium.webdriver.common.by import By\n",
    "from selenium.webdriver.common.keys import Keys\n",
    "from selenium.webdriver.chrome.options import Options\n",
    "from selenium.webdriver.chrome.service import Service\n",
    "from selenium.webdriver.support.ui import WebDriverWait\n",
    "from concurrent.futures import ThreadPoolExecutor, as_completed\n",
    "from selenium.webdriver.common.action_chains import ActionChains\n",
    "from selenium.webdriver.support import expected_conditions as EC\n",
    "from python_whatsapp_bot import Whatsapp, Inline_list, List_item\n",
    "from selenium.common.exceptions import TimeoutException, NoSuchElementException"
   ]
  },
  {
   "cell_type": "code",
   "execution_count": 2,
   "metadata": {},
   "outputs": [],
   "source": [
    "load_dotenv()\n",
    "\n",
    "NUMBER: str = env_variable.get(\"MY_NUMBER\")  # Your WhatsApp Number (234xxxxxxxxxx)\n",
    "NUM_ID: str = env_variable.get(\"NUM_ID\")  # Your Number ID\n",
    "TOKEN: str =  env_variable.get(\"TOKEN\")  # Token\n",
    "USERNAME: str =  env_variable.get(\"USER\")  # Plu Username (Phone number)\n",
    "PASSWORD: str =  env_variable.get(\"PASSWORD\")  # Plu Password\n",
    "\n",
    "plu_base_url: str = \"https://pluapp.net/\"\n",
    "plu_login_page: str = plu_base_url + \"index/index/login.html\"\n",
    "plu_homepage: str =  plu_base_url + \"index/index/index.html\"\n",
    "telegram_url: str = 'https://web.telegram.org/a/#-1001640574914'\n",
    "\n",
    "coin: str = 'bnb'.lower()\n",
    "action: str = 'CALL'.upper()\n",
    "sticky_date_xpath: str = '//div[@class=\"sticky-date interactive\"]'\n",
    "actionbtn_xpath: str = f\"//span[text()='{action}']\"\n",
    "driverpath: str = \"assets\\drivers\\chromedriver.exe\"\n",
    "durationbtn_xpath: str = '//div[@id=\"time_1\"]//span[text()=\"60 S\"]'\n",
    "coin_link: str = f'https://pluapp.net/index/trade/trans.html?sytx={coin}'\n",
    "selectd_duration_xpath: str = '//div[@class=\"dong_order_option_list fontchangecolor fontchangecolor_1 bgf5465cim\"]'\n",
    "msgs_xpath: str = '//div[@class=\"text-content clearfix with-meta\"]'\n",
    "\n",
    "\n",
    "gmtTime: str = lambda tz: datetime.now(\n",
    "    pytz.timezone(tz)).strftime(\"%H : %M : %S\")\n",
    "\n",
    "service = Service(executable_path=driverpath)\n",
    "options = Options()\n",
    "options.add_argument(\"--disable-gpu\")\n",
    "options.add_argument(\"--no-first-run\")\n",
    "options.add_argument(\"--single-process\")\n",
    "options.add_argument('--disable-dev-shm-usage')\n",
    "options.add_argument(r'--profile-directory=Plu Profile')\n",
    "options.add_argument(r'user-data-dir=C:\\PluBot Chrome Profile')\n",
    "options.add_experimental_option('useAutomationExtension', False)\n",
    "options.add_experimental_option(\n",
    "    \"excludeSwitches\", [\"enable-automation\", 'enable-logging'])\n",
    "options.add_argument('--disable-blink-features=AutomationControlled')\n",
    "bot = webdriver.Chrome(service=service, options=options)\n",
    "wait = WebDriverWait(bot, 30)\n",
    "wait5secs = WebDriverWait(bot, 5)"
   ]
  },
  {
   "cell_type": "code",
   "execution_count": 3,
   "metadata": {},
   "outputs": [],
   "source": [
    "bot.get(telegram_url); sleep(5)\n",
    "sticky_dates = wait.until(EC.visibility_of_all_elements_located((By.XPATH, sticky_date_xpath)))\n",
    "msgs = wait.until(EC.visibility_of_all_elements_located((By.XPATH, msgs_xpath)))\n",
    "# sticky_dates = bot.find_elements(By.XPATH, sticky_date_xpath)\n",
    "signal = msgs[-2].text\n",
    "\n",
    "signal.split(\"Trading products:\")\n",
    "input(\"Telgram DONE:....\")"
   ]
  },
  {
   "cell_type": "code",
   "execution_count": null,
   "metadata": {},
   "outputs": [],
   "source": []
  },
  {
   "cell_type": "code",
   "execution_count": null,
   "metadata": {},
   "outputs": [],
   "source": [
    "\n",
    "# if __name__ == \"__main__\":\n",
    "#     main()"
   ]
  }
 ],
 "metadata": {
  "kernelspec": {
   "display_name": "plu_venv",
   "language": "python",
   "name": "python3"
  },
  "language_info": {
   "codemirror_mode": {
    "name": "ipython",
    "version": 3
   },
   "file_extension": ".py",
   "mimetype": "text/x-python",
   "name": "python",
   "nbconvert_exporter": "python",
   "pygments_lexer": "ipython3",
   "version": "3.11.2"
  }
 },
 "nbformat": 4,
 "nbformat_minor": 2
}
